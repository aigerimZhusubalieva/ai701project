{
 "cells": [
  {
   "cell_type": "code",
   "execution_count": null,
   "metadata": {},
   "outputs": [],
   "source": [
    "# !pip install seaborn pandas numpy matplotlib\n",
    "# !pip install plotly\n",
    "%matplotlib inline"
   ]
  },
  {
   "cell_type": "code",
   "execution_count": null,
   "metadata": {},
   "outputs": [],
   "source": [
    "import pandas as pd\n",
    "import seaborn as sns\n",
    "import matplotlib.pyplot as plt\n",
    "from scipy.stats import f_oneway"
   ]
  },
  {
   "cell_type": "markdown",
   "metadata": {},
   "source": [
    "Look into the details about selected features using a reference taxonomy file"
   ]
  },
  {
   "cell_type": "code",
   "execution_count": null,
   "metadata": {},
   "outputs": [],
   "source": [
    "# read the reference data obtained from Green Genes\n",
    "reference_data = pd.read_csv(\"97_otu_taxonomy.txt\", sep=\"\\t\", header=None)\n",
    "reference_data.columns = [\"OTU ID\", \"Taxonomy\"]\n",
    "\n",
    "# split the taxonomy into the different levels\n",
    "reference_data[\"Kingdom\"] = reference_data[\"Taxonomy\"].apply(lambda x: x.split(\"; \")[0])\n",
    "reference_data[\"Phylum\"] = reference_data[\"Taxonomy\"].apply(lambda x: x.split(\"; \")[1])\n",
    "reference_data[\"Class\"] = reference_data[\"Taxonomy\"].apply(lambda x: x.split(\"; \")[2])\n",
    "reference_data[\"Order\"] = reference_data[\"Taxonomy\"].apply(lambda x: x.split(\"; \")[3])\n",
    "reference_data[\"Family\"] = reference_data[\"Taxonomy\"].apply(lambda x: x.split(\"; \")[4])\n",
    "reference_data[\"Genus\"] = reference_data[\"Taxonomy\"].apply(lambda x: x.split(\"; \")[5])\n",
    "reference_data[\"Species\"] = reference_data[\"Taxonomy\"].apply(lambda x: x.split(\"; \")[6])\n",
    "\n",
    "# remove the taxonomy column\n",
    "reference_data = reference_data.drop(\"Taxonomy\", axis=1)\n",
    "# reference data is now a dataframe with the OTU ID and the different taxonomy levels\n",
    "print(reference_data.head())\n",
    "\n",
    "\n",
    "# read the selected attributes\n",
    "selected_filename = \"best_first_wrapper_turkey.csv\"\n",
    "selected_attributes = pd.read_csv(selected_filename)\n",
    "# get a list of the selected attributes in the \"Name\" column\n",
    "selected_attributes = selected_attributes[\"Name\"][:-1].tolist()\n",
    "\n",
    "\n",
    "# read the data\n",
    "data_filename = \"normalized_feature_table_three_class.csv\"\n",
    "data = pd.read_csv(data_filename)"
   ]
  },
  {
   "cell_type": "code",
   "execution_count": null,
   "metadata": {},
   "outputs": [],
   "source": [
    "taxonomic_levels = {}\n",
    "for attribute in selected_attributes:\n",
    "    taxonomic_levels[attribute] = []\n",
    "    for column in reference_data.columns[1:]:\n",
    "        # get the taxonomic level\n",
    "        taxonomic_level = reference_data.loc[reference_data[\"OTU ID\"] == int(attribute)][column].values[0]\n",
    "        # print(attribute, taxonomic_level)\n",
    "        taxonomic_levels[attribute].append(taxonomic_level)\n",
    "\n",
    "        \n",
    "# convert the dictionary to a dataframe\n",
    "taxonomic_levels_df = pd.DataFrame(taxonomic_levels).T\n",
    "taxonomic_levels_df.columns = reference_data.columns[1:]\n",
    "print(taxonomic_levels_df.head())\n",
    "\n",
    "# save the selected attributes with the taxonomic levels\n",
    "taxonomic_levels_df.to_csv(\"taxonomic_levels.csv\")"
   ]
  },
  {
   "cell_type": "markdown",
   "metadata": {},
   "source": [
    "**Perform Statistical Analysis**"
   ]
  },
  {
   "cell_type": "code",
   "execution_count": null,
   "metadata": {},
   "outputs": [],
   "source": [
    "# get the data of the selected attributes\n",
    "selected_data = data.loc[:, selected_attributes]\n",
    "selected_data[\"class\"] = data[\"class\"]\n",
    "print(selected_data.head())\n"
   ]
  },
  {
   "cell_type": "code",
   "execution_count": null,
   "metadata": {},
   "outputs": [],
   "source": [
    "# Separate features and target\n",
    "features = selected_data.drop(columns=['class'])\n",
    "target = selected_data['class']\n",
    "\n",
    "# Step 1: Statistical Analysis\n",
    "summary_stats = features.groupby(target).agg(['mean', 'std'])\n",
    "print(\"Summary Statistics:\\n\", summary_stats)\n",
    "\n",
    "# Perform ANOVA to identify significant features\n",
    "anova_results = {}\n",
    "for column in features.columns:\n",
    "    groups = [features[column][target == cls] for cls in target.unique()]\n",
    "    anova_results[column] = f_oneway(*groups)\n",
    "\n",
    "# Convert ANOVA results to a DataFrame\n",
    "anova_df = pd.DataFrame({\n",
    "    'Feature': anova_results.keys(),\n",
    "    'F-statistic': [res.statistic for res in anova_results.values()],\n",
    "    'p-value': [res.pvalue for res in anova_results.values()]\n",
    "}).sort_values(by='p-value')\n",
    "\n",
    "print(\"\\nANOVA Results (sorted by p-value):\\n\", anova_df)"
   ]
  },
  {
   "cell_type": "code",
   "execution_count": null,
   "metadata": {},
   "outputs": [
    {
     "name": "stdout",
     "output_type": "stream",
     "text": [
      "\n",
      "Significant Features (p-value < 0.05):\n",
      "    Feature  F-statistic       p-value\n",
      "3   191703    19.016374  6.474539e-08\n",
      "6   327383     9.093419  2.083570e-04\n",
      "9  1076818     7.267241  1.042717e-03\n"
     ]
    },
    {
     "data": {
      "image/png": "[encoded data removed]",
      "text/plain": [
       "<Figure size 1000x800 with 2 Axes>"
      ]
     },
     "metadata": {},
     "output_type": "display_data"
    }
   ],
   "source": [
    "p_value_threshold = 0.05\n",
    "significant_features = anova_df[anova_df['p-value'] < p_value_threshold]\n",
    "print(\"\\nSignificant Features (p-value < 0.05):\\n\", significant_features)\n",
    "\n",
    "\n",
    "selected_features = features[significant_features['Feature']]\n",
    "plt.figure(figsize=(10, 8))\n",
    "corr_matrix = selected_features.corr()\n",
    "sns.heatmap(corr_matrix, annot=True, cmap='rocket_r', fmt='.2f')\n",
    "plt.title('Feature Correlation Heatmap')\n",
    "plt.show()\n"
   ]
  },
  {
   "cell_type": "markdown",
   "metadata": {},
   "source": [
    "Visualization to investigate the data further"
   ]
  },
  {
   "cell_type": "code",
   "execution_count": 38,
   "metadata": {},
   "outputs": [],
   "source": [
    "def clean_taxonomic_level(attribute):\n",
    "    # only keep taxonomic levels >3\n",
    "    taxonomic_list = taxonomic_levels[attribute]\n",
    "    taxonomic_list = [level for level in taxonomic_list if len(level) > 3]\n",
    "    # remove the prefix\n",
    "    taxonomic_list = [level.split(\"__\")[1] for level in taxonomic_list]\n",
    "    print(attribute, taxonomic_list)\n",
    "    return taxonomic_list[-1]\n",
    "    "
   ]
  },
  {
   "cell_type": "code",
   "execution_count": 39,
   "metadata": {},
   "outputs": [
    {
     "name": "stdout",
     "output_type": "stream",
     "text": [
      "191703 ['Bacteria', 'Firmicutes', 'Clostridia', 'Clostridiales']\n",
      "327383 ['Bacteria', 'Firmicutes', 'Clostridia', 'Clostridiales', 'Ruminococcaceae']\n",
      "1076818 ['Bacteria', 'Firmicutes', 'Clostridia', 'Clostridiales', 'Lachnospiraceae']\n"
     ]
    },
    {
     "name": "stderr",
     "output_type": "stream",
     "text": [
      "/var/folders/yp/kkdytntx39q1m03lrfdnh19r0000gn/T/ipykernel_72030/2178614524.py:5: SettingWithCopyWarning:\n",
      "\n",
      "\n",
      "A value is trying to be set on a copy of a slice from a DataFrame.\n",
      "Try using .loc[row_indexer,col_indexer] = value instead\n",
      "\n",
      "See the caveats in the documentation: https://pandas.pydata.org/pandas-docs/stable/user_guide/indexing.html#returning-a-view-versus-a-copy\n",
      "\n"
     ]
    },
    {
     "data": {
      "application/vnd.plotly.v1+json": {
       "config": {
        "plotlyServerURL": "https://plot.ly"
       },
       "data": [
        {
         "hovertemplate": "class=control<br>191703=%{x}<br>327383=%{y}<br>1076818=%{z}<extra></extra>",
         "legendgroup": "control",
         "marker": {
          "color": "yellow",
          "symbol": "circle"
         },
         "mode": "markers",
         "name": "control",
         "scene": "scene",
         "showlegend": true,
         "type": "scatter3d",
         "x": [
          0,
          0.0661787089857451,
          0.0163671478608137,
          0,
          0.4399859204505456,
          0.0976498925851181,
          0,
          0.8664531926916557,
          0.0629729531166364,
          0,
          0,
          0.0579491785703937,
          0.0267630135153218,
          0,
          0.0796701655147688,
          0,
          0.2455996725337699,
          0.0141542816702052,
          0.0137268359643102,
          0.1841829361593607,
          0,
          0.0385988613335906,
          0.0278322826646627,
          0.0167327610729046,
          0.2669276626034344,
          0.226950354609929,
          1.0301844030081386,
          0,
          0.0426266544470257,
          0.2902362704639246,
          0.0237051084508711,
          0.1259366538631068,
          0,
          0,
          0,
          0.577128401450516,
          0.236606388372486,
          0,
          0.0245618775099168,
          0.04644681839294,
          0,
          0.1375457604164462,
          0,
          0.7799610019499025,
          0.047529270108842,
          0,
          0,
          0,
          0,
          0.1039717196922437,
          0.0578190648729907
         ],
         "y": [
          0,
          0,
          0,
          0.0248733531767417,
          0,
          0.0244124731462795,
          0.0076339957096944,
          0,
          0,
          0,
          0,
          0,
          0.0178420090102145,
          0,
          0.0199175413786922,
          0,
          0.0175428337524121,
          0,
          0,
          0,
          0,
          0,
          0,
          0,
          0,
          0,
          0,
          0,
          0.0142088848156752,
          0,
          0,
          0,
          0,
          0,
          0,
          0.0096188066908419,
          0,
          0,
          0.0122809387549584,
          0,
          0,
          0,
          0.013620081448087,
          0,
          0,
          0,
          0,
          0.0201987557566453,
          0,
          0,
          0
         ],
         "z": [
          0,
          0,
          0,
          0,
          0,
          0,
          0,
          0,
          0,
          0,
          0,
          0,
          0,
          0,
          0,
          0,
          0,
          0,
          0,
          0,
          0,
          0,
          0,
          0,
          0,
          0,
          0,
          0,
          0,
          0,
          0,
          0,
          0,
          0,
          0,
          0,
          0,
          0,
          0,
          0,
          0,
          0,
          0,
          0,
          0,
          0,
          0,
          0,
          0,
          0,
          0
         ]
        },
        {
         "hovertemplate": "class=alzheimer<br>191703=%{x}<br>327383=%{y}<br>1076818=%{z}<extra></extra>",
         "legendgroup": "alzheimer",
         "marker": {
          "color": "red",
          "symbol": "circle"
         },
         "mode": "markers",
         "name": "alzheimer",
         "scene": "scene",
         "showlegend": true,
         "type": "scatter3d",
         "x": [
          0,
          0.3987594151528578,
          0,
          0.0369030924791497,
          0,
          0.0897156015431083,
          0.0673559424780251,
          0,
          0,
          0.0691706439786954,
          0,
          0.0343112026076514,
          0,
          0,
          0,
          0,
          0,
          0.0458442213359006,
          0.0051493040715547,
          0,
          0,
          0,
          1.7459014962375825,
          0.0257572635483206,
          0,
          2.561498533062514,
          0,
          0,
          0.0179765585676278,
          0,
          0.0536298467974043,
          0.0138513747489438,
          0,
          0,
          0,
          0,
          0,
          0,
          0.1435379227191824,
          0.0147566626331788,
          0.1600512163892445,
          3.206627029193667,
          0,
          0,
          0.010759745639613,
          0,
          0
         ],
         "y": [
          0,
          0.0110766504209127,
          0,
          0,
          0,
          0,
          0,
          0,
          0,
          0,
          0,
          0,
          0,
          0,
          0,
          0,
          0,
          0,
          0.0051493040715547,
          0,
          0,
          0.0124607486417783,
          0.0436475374059395,
          0,
          0,
          0.0338524035206499,
          0,
          0,
          0,
          0,
          0,
          0,
          0,
          0,
          0,
          0,
          0,
          0,
          0,
          0.0590266505327155,
          0,
          0.0286305984749434,
          0,
          0,
          0.010759745639613,
          0,
          0.0170282328099989
         ],
         "z": [
          0,
          0,
          0,
          0.0092257731197874,
          0.0103704318247811,
          0,
          0,
          0,
          0,
          0,
          0,
          0,
          0,
          0,
          0,
          0,
          0,
          0,
          0,
          0,
          0,
          0.0124607486417783,
          0,
          0,
          0,
          0,
          0,
          0,
          0.0359531171352556,
          0,
          0.0178766155991347,
          0,
          0,
          0,
          0,
          0,
          0,
          0,
          0,
          0.0147566626331788,
          0.0533504054630815,
          0,
          0,
          0,
          0,
          0.0152727717026085,
          0
         ]
        },
        {
         "hovertemplate": "class=mci<br>191703=%{x}<br>327383=%{y}<br>1076818=%{z}<extra></extra>",
         "legendgroup": "mci",
         "marker": {
          "color": "orange",
          "symbol": "circle"
         },
         "mode": "markers",
         "name": "mci",
         "scene": "scene",
         "showlegend": true,
         "type": "scatter3d",
         "x": [
          4.48850426246448,
          1.6160204404747605,
          0.013520639255824,
          0.0148315140009492,
          1.0347636555778164,
          0.0256469441666025,
          0.0609328824300033,
          3.372372207254266,
          0.1015744032503809,
          0,
          2.7664897348670365,
          3.9621060117339297,
          3.9235921800763296,
          1.9107519605111265,
          0,
          0.2543081003184906,
          7.826142172270375,
          0.2790777553561461,
          0.4505340153181565,
          4.781429075468714,
          0.4690718495706972,
          0.0109527825544079,
          0.0097039330040465,
          5.6682969996292885,
          0.5244144039156275,
          0.011599716966906,
          0.0215391905572188
         ],
         "y": [
          0,
          0,
          0,
          0,
          0.0110081239955086,
          0,
          0.0304664412150016,
          0,
          0.0338581344167936,
          0.0306993307545895,
          0.0264735859795888,
          0,
          0,
          0,
          0.1011413411341834,
          0,
          0,
          0.0214675196427804,
          0,
          0,
          0.0611832847266126,
          0.0547639127720397,
          0,
          0.0119584324886693,
          0.0388455114011576,
          0.011599716966906,
          0.0430783811144377
         ],
         "z": [
          0,
          0,
          0.013520639255824,
          0.0593260560037968,
          0,
          0,
          0,
          0,
          0,
          0,
          0.0264735859795888,
          0,
          0,
          0,
          0.0311204126566718,
          0,
          0,
          0,
          0,
          0,
          0,
          0,
          0.019407866008093,
          0.0119584324886693,
          0.0582682671017363,
          0.011599716966906,
          0.0107695952786094
         ]
        }
       ],
       "layout": {
        "legend": {
         "title": {
          "text": "Class"
         },
         "tracegroupgap": 0
        },
        "margin": {
         "b": 0,
         "l": 0,
         "r": 0,
         "t": 40
        },
        "scene": {
         "domain": {
          "x": [
           0,
           1
          ],
          "y": [
           0,
           1
          ]
         },
         "xaxis": {
          "title": {
           "text": "Clostridiales"
          }
         },
         "yaxis": {
          "title": {
           "text": "Ruminococcaceae"
          }
         },
         "zaxis": {
          "title": {
           "text": "Lachnospiraceae"
          }
         }
        },
        "template": {
         "data": {
          "bar": [
           {
            "error_x": {
             "color": "#2a3f5f"
            },
            "error_y": {
             "color": "#2a3f5f"
            },
            "marker": {
             "line": {
              "color": "#E5ECF6",
              "width": 0.5
             },
             "pattern": {
              "fillmode": "overlay",
              "size": 10,
              "solidity": 0.2
             }
            },
            "type": "bar"
           }
          ],
          "barpolar": [
           {
            "marker": {
             "line": {
              "color": "#E5ECF6",
              "width": 0.5
             },
             "pattern": {
              "fillmode": "overlay",
              "size": 10,
              "solidity": 0.2
             }
            },
            "type": "barpolar"
           }
          ],
          "carpet": [
           {
            "aaxis": {
             "endlinecolor": "#2a3f5f",
             "gridcolor": "white",
             "linecolor": "white",
             "minorgridcolor": "white",
             "startlinecolor": "#2a3f5f"
            },
            "baxis": {
             "endlinecolor": "#2a3f5f",
             "gridcolor": "white",
             "linecolor": "white",
             "minorgridcolor": "white",
             "startlinecolor": "#2a3f5f"
            },
            "type": "carpet"
           }
          ],
          "choropleth": [
           {
            "colorbar": {
             "outlinewidth": 0,
             "ticks": ""
            },
            "type": "choropleth"
           }
          ],
          "contour": [
           {
            "colorbar": {
             "outlinewidth": 0,
             "ticks": ""
            },
            "colorscale": [
             [
              0,
              "#0d0887"
             ],
             [
              0.1111111111111111,
              "#46039f"
             ],
             [
              0.2222222222222222,
              "#7201a8"
             ],
             [
              0.3333333333333333,
              "#9c179e"
             ],
             [
              0.4444444444444444,
              "#bd3786"
             ],
             [
              0.5555555555555556,
              "#d8576b"
             ],
             [
              0.6666666666666666,
              "#ed7953"
             ],
             [
              0.7777777777777778,
              "#fb9f3a"
             ],
             [
              0.8888888888888888,
              "#fdca26"
             ],
             [
              1,
              "#f0f921"
             ]
            ],
            "type": "contour"
           }
          ],
          "contourcarpet": [
           {
            "colorbar": {
             "outlinewidth": 0,
             "ticks": ""
            },
            "type": "contourcarpet"
           }
          ],
          "heatmap": [
           {
            "colorbar": {
             "outlinewidth": 0,
             "ticks": ""
            },
            "colorscale": [
             [
              0,
              "#0d0887"
             ],
             [
              0.1111111111111111,
              "#46039f"
             ],
             [
              0.2222222222222222,
              "#7201a8"
             ],
             [
              0.3333333333333333,
              "#9c179e"
             ],
             [
              0.4444444444444444,
              "#bd3786"
             ],
             [
              0.5555555555555556,
              "#d8576b"
             ],
             [
              0.6666666666666666,
              "#ed7953"
             ],
             [
              0.7777777777777778,
              "#fb9f3a"
             ],
             [
              0.8888888888888888,
              "#fdca26"
             ],
             [
              1,
              "#f0f921"
             ]
            ],
            "type": "heatmap"
           }
          ],
          "heatmapgl": [
           {
            "colorbar": {
             "outlinewidth": 0,
             "ticks": ""
            },
            "colorscale": [
             [
              0,
              "#0d0887"
             ],
             [
              0.1111111111111111,
              "#46039f"
             ],
             [
              0.2222222222222222,
              "#7201a8"
             ],
             [
              0.3333333333333333,
              "#9c179e"
             ],
             [
              0.4444444444444444,
              "#bd3786"
             ],
             [
              0.5555555555555556,
              "#d8576b"
             ],
             [
              0.6666666666666666,
              "#ed7953"
             ],
             [
              0.7777777777777778,
              "#fb9f3a"
             ],
             [
              0.8888888888888888,
              "#fdca26"
             ],
             [
              1,
              "#f0f921"
             ]
            ],
            "type": "heatmapgl"
           }
          ],
          "histogram": [
           {
            "marker": {
             "pattern": {
              "fillmode": "overlay",
              "size": 10,
              "solidity": 0.2
             }
            },
            "type": "histogram"
           }
          ],
          "histogram2d": [
           {
            "colorbar": {
             "outlinewidth": 0,
             "ticks": ""
            },
            "colorscale": [
             [
              0,
              "#0d0887"
             ],
             [
              0.1111111111111111,
              "#46039f"
             ],
             [
              0.2222222222222222,
              "#7201a8"
             ],
             [
              0.3333333333333333,
              "#9c179e"
             ],
             [
              0.4444444444444444,
              "#bd3786"
             ],
             [
              0.5555555555555556,
              "#d8576b"
             ],
             [
              0.6666666666666666,
              "#ed7953"
             ],
             [
              0.7777777777777778,
              "#fb9f3a"
             ],
             [
              0.8888888888888888,
              "#fdca26"
             ],
             [
              1,
              "#f0f921"
             ]
            ],
            "type": "histogram2d"
           }
          ],
          "histogram2dcontour": [
           {
            "colorbar": {
             "outlinewidth": 0,
             "ticks": ""
            },
            "colorscale": [
             [
              0,
              "#0d0887"
             ],
             [
              0.1111111111111111,
              "#46039f"
             ],
             [
              0.2222222222222222,
              "#7201a8"
             ],
             [
              0.3333333333333333,
              "#9c179e"
             ],
             [
              0.4444444444444444,
              "#bd3786"
             ],
             [
              0.5555555555555556,
              "#d8576b"
             ],
             [
              0.6666666666666666,
              "#ed7953"
             ],
             [
              0.7777777777777778,
              "#fb9f3a"
             ],
             [
              0.8888888888888888,
              "#fdca26"
             ],
             [
              1,
              "#f0f921"
             ]
            ],
            "type": "histogram2dcontour"
           }
          ],
          "mesh3d": [
           {
            "colorbar": {
             "outlinewidth": 0,
             "ticks": ""
            },
            "type": "mesh3d"
           }
          ],
          "parcoords": [
           {
            "line": {
             "colorbar": {
              "outlinewidth": 0,
              "ticks": ""
             }
            },
            "type": "parcoords"
           }
          ],
          "pie": [
           {
            "automargin": true,
            "type": "pie"
           }
          ],
          "scatter": [
           {
            "fillpattern": {
             "fillmode": "overlay",
             "size": 10,
             "solidity": 0.2
            },
            "type": "scatter"
           }
          ],
          "scatter3d": [
           {
            "line": {
             "colorbar": {
              "outlinewidth": 0,
              "ticks": ""
             }
            },
            "marker": {
             "colorbar": {
              "outlinewidth": 0,
              "ticks": ""
             }
            },
            "type": "scatter3d"
           }
          ],
          "scattercarpet": [
           {
            "marker": {
             "colorbar": {
              "outlinewidth": 0,
              "ticks": ""
             }
            },
            "type": "scattercarpet"
           }
          ],
          "scattergeo": [
           {
            "marker": {
             "colorbar": {
              "outlinewidth": 0,
              "ticks": ""
             }
            },
            "type": "scattergeo"
           }
          ],
          "scattergl": [
           {
            "marker": {
             "colorbar": {
              "outlinewidth": 0,
              "ticks": ""
             }
            },
            "type": "scattergl"
           }
          ],
          "scattermapbox": [
           {
            "marker": {
             "colorbar": {
              "outlinewidth": 0,
              "ticks": ""
             }
            },
            "type": "scattermapbox"
           }
          ],
          "scatterpolar": [
           {
            "marker": {
             "colorbar": {
              "outlinewidth": 0,
              "ticks": ""
             }
            },
            "type": "scatterpolar"
           }
          ],
          "scatterpolargl": [
           {
            "marker": {
             "colorbar": {
              "outlinewidth": 0,
              "ticks": ""
             }
            },
            "type": "scatterpolargl"
           }
          ],
          "scatterternary": [
           {
            "marker": {
             "colorbar": {
              "outlinewidth": 0,
              "ticks": ""
             }
            },
            "type": "scatterternary"
           }
          ],
          "surface": [
           {
            "colorbar": {
             "outlinewidth": 0,
             "ticks": ""
            },
            "colorscale": [
             [
              0,
              "#0d0887"
             ],
             [
              0.1111111111111111,
              "#46039f"
             ],
             [
              0.2222222222222222,
              "#7201a8"
             ],
             [
              0.3333333333333333,
              "#9c179e"
             ],
             [
              0.4444444444444444,
              "#bd3786"
             ],
             [
              0.5555555555555556,
              "#d8576b"
             ],
             [
              0.6666666666666666,
              "#ed7953"
             ],
             [
              0.7777777777777778,
              "#fb9f3a"
             ],
             [
              0.8888888888888888,
              "#fdca26"
             ],
             [
              1,
              "#f0f921"
             ]
            ],
            "type": "surface"
           }
          ],
          "table": [
           {
            "cells": {
             "fill": {
              "color": "#EBF0F8"
             },
             "line": {
              "color": "white"
             }
            },
            "header": {
             "fill": {
              "color": "#C8D4E3"
             },
             "line": {
              "color": "white"
             }
            },
            "type": "table"
           }
          ]
         },
         "layout": {
          "annotationdefaults": {
           "arrowcolor": "#2a3f5f",
           "arrowhead": 0,
           "arrowwidth": 1
          },
          "autotypenumbers": "strict",
          "coloraxis": {
           "colorbar": {
            "outlinewidth": 0,
            "ticks": ""
           }
          },
          "colorscale": {
           "diverging": [
            [
             0,
             "#8e0152"
            ],
            [
             0.1,
             "#c51b7d"
            ],
            [
             0.2,
             "#de77ae"
            ],
            [
             0.3,
             "#f1b6da"
            ],
            [
             0.4,
             "#fde0ef"
            ],
            [
             0.5,
             "#f7f7f7"
            ],
            [
             0.6,
             "#e6f5d0"
            ],
            [
             0.7,
             "#b8e186"
            ],
            [
             0.8,
             "#7fbc41"
            ],
            [
             0.9,
             "#4d9221"
            ],
            [
             1,
             "#276419"
            ]
           ],
           "sequential": [
            [
             0,
             "#0d0887"
            ],
            [
             0.1111111111111111,
             "#46039f"
            ],
            [
             0.2222222222222222,
             "#7201a8"
            ],
            [
             0.3333333333333333,
             "#9c179e"
            ],
            [
             0.4444444444444444,
             "#bd3786"
            ],
            [
             0.5555555555555556,
             "#d8576b"
            ],
            [
             0.6666666666666666,
             "#ed7953"
            ],
            [
             0.7777777777777778,
             "#fb9f3a"
            ],
            [
             0.8888888888888888,
             "#fdca26"
            ],
            [
             1,
             "#f0f921"
            ]
           ],
           "sequentialminus": [
            [
             0,
             "#0d0887"
            ],
            [
             0.1111111111111111,
             "#46039f"
            ],
            [
             0.2222222222222222,
             "#7201a8"
            ],
            [
             0.3333333333333333,
             "#9c179e"
            ],
            [
             0.4444444444444444,
             "#bd3786"
            ],
            [
             0.5555555555555556,
             "#d8576b"
            ],
            [
             0.6666666666666666,
             "#ed7953"
            ],
            [
             0.7777777777777778,
             "#fb9f3a"
            ],
            [
             0.8888888888888888,
             "#fdca26"
            ],
            [
             1,
             "#f0f921"
            ]
           ]
          },
          "colorway": [
           "#636efa",
           "#EF553B",
           "#00cc96",
           "#ab63fa",
           "#FFA15A",
           "#19d3f3",
           "#FF6692",
           "#B6E880",
           "#FF97FF",
           "#FECB52"
          ],
          "font": {
           "color": "#2a3f5f"
          },
          "geo": {
           "bgcolor": "white",
           "lakecolor": "white",
           "landcolor": "#E5ECF6",
           "showlakes": true,
           "showland": true,
           "subunitcolor": "white"
          },
          "hoverlabel": {
           "align": "left"
          },
          "hovermode": "closest",
          "mapbox": {
           "style": "light"
          },
          "paper_bgcolor": "white",
          "plot_bgcolor": "#E5ECF6",
          "polar": {
           "angularaxis": {
            "gridcolor": "white",
            "linecolor": "white",
            "ticks": ""
           },
           "bgcolor": "#E5ECF6",
           "radialaxis": {
            "gridcolor": "white",
            "linecolor": "white",
            "ticks": ""
           }
          },
          "scene": {
           "xaxis": {
            "backgroundcolor": "#E5ECF6",
            "gridcolor": "white",
            "gridwidth": 2,
            "linecolor": "white",
            "showbackground": true,
            "ticks": "",
            "zerolinecolor": "white"
           },
           "yaxis": {
            "backgroundcolor": "#E5ECF6",
            "gridcolor": "white",
            "gridwidth": 2,
            "linecolor": "white",
            "showbackground": true,
            "ticks": "",
            "zerolinecolor": "white"
           },
           "zaxis": {
            "backgroundcolor": "#E5ECF6",
            "gridcolor": "white",
            "gridwidth": 2,
            "linecolor": "white",
            "showbackground": true,
            "ticks": "",
            "zerolinecolor": "white"
           }
          },
          "shapedefaults": {
           "line": {
            "color": "#2a3f5f"
           }
          },
          "ternary": {
           "aaxis": {
            "gridcolor": "white",
            "linecolor": "white",
            "ticks": ""
           },
           "baxis": {
            "gridcolor": "white",
            "linecolor": "white",
            "ticks": ""
           },
           "bgcolor": "#E5ECF6",
           "caxis": {
            "gridcolor": "white",
            "linecolor": "white",
            "ticks": ""
           }
          },
          "title": {
           "x": 0.05
          },
          "xaxis": {
           "automargin": true,
           "gridcolor": "white",
           "linecolor": "white",
           "ticks": "",
           "title": {
            "standoff": 15
           },
           "zerolinecolor": "white",
           "zerolinewidth": 2
          },
          "yaxis": {
           "automargin": true,
           "gridcolor": "white",
           "linecolor": "white",
           "ticks": "",
           "title": {
            "standoff": 15
           },
           "zerolinecolor": "white",
           "zerolinewidth": 2
          }
         }
        },
        "title": {
         "text": "3D Visualization of Significant Features"
        }
       }
      }
     },
     "metadata": {},
     "output_type": "display_data"
    }
   ],
   "source": [
    "import pandas as pd\n",
    "import plotly.express as px\n",
    "\n",
    "data_3d = data[significant_features['Feature'].values[:3]]\n",
    "data_3d['class'] = data['class']  \n",
    "\n",
    "x_label = clean_taxonomic_level(significant_features[\"Feature\"].values[0])\n",
    "y_label = clean_taxonomic_level(significant_features[\"Feature\"].values[1])\n",
    "z_label = clean_taxonomic_level(significant_features[\"Feature\"].values[2])\n",
    "\n",
    "\n",
    "fig = px.scatter_3d(\n",
    "    data_3d,\n",
    "    x=significant_features[\"Feature\"].values[0],\n",
    "    y=significant_features[\"Feature\"].values[1],\n",
    "    z=significant_features[\"Feature\"].values[2],\n",
    "    color='class',  # Different colors for each class\n",
    "    color_discrete_map={\n",
    "        'control': 'yellow',\n",
    "        'alzheimer': 'red',\n",
    "        'mci': 'orange'\n",
    "    },\n",
    "    title='3D Visualization of Significant Features',\n",
    ")\n",
    "\n",
    "# Customize layout\n",
    "fig.update_layout(\n",
    "    scene=dict(\n",
    "        xaxis_title=x_label,\n",
    "        yaxis_title=y_label,\n",
    "        zaxis_title=z_label,\n",
    "    ),\n",
    "    legend_title=\"Class\",\n",
    "    margin=dict(l=0, r=0, b=0, t=40),\n",
    ")\n",
    "\n",
    "# Display the plot\n",
    "fig.show()\n"
   ]
  }
 ],
 "metadata": {
  "kernelspec": {
   "display_name": "qiime2-amplicon-2024.10",
   "language": "python",
   "name": "python3"
  },
  "language_info": {
   "codemirror_mode": {
    "name": "ipython",
    "version": 3
   },
   "file_extension": ".py",
   "mimetype": "text/x-python",
   "name": "python",
   "nbconvert_exporter": "python",
   "pygments_lexer": "ipython3",
   "version": "3.10.14"
  }
 },
 "nbformat": 4,
 "nbformat_minor": 2
}
