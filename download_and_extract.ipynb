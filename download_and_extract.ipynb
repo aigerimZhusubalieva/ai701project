{
 "cells": [
  {
   "cell_type": "code",
   "execution_count": null,
   "metadata": {},
   "outputs": [],
   "source": [
    "# Activate the environment that has qiime2 installed\n",
    "# conda activate qiime2-amplicon-2024.10  "
   ]
  },
  {
   "cell_type": "code",
   "execution_count": 2,
   "metadata": {},
   "outputs": [],
   "source": [
    "# %pip install biopython"
   ]
  },
  {
   "cell_type": "code",
   "execution_count": null,
   "metadata": {},
   "outputs": [],
   "source": [
    "import os\n",
    "import subprocess\n",
    "import pandas as pd"
   ]
  },
  {
   "cell_type": "markdown",
   "metadata": {},
   "source": [
    "Download the sra files"
   ]
  },
  {
   "cell_type": "code",
   "execution_count": null,
   "metadata": {},
   "outputs": [],
   "source": [
    "# Download the accession IDs and load them into a list\n",
    "accession_ids = []\n",
    "with open(\"acc_list.txt\", \"r\") as f:\n",
    "    for line in f:\n",
    "        accession_ids.append(line.strip())\n",
    "sratoolkit_path = \"sratoolkit.3.1.1-mac-arm64/bin\" #path to the sratoolkit\n",
    "\n",
    "for acc in accession_ids:\n",
    "    # Use the actual path and accession ID\n",
    "    result = subprocess.run([f\"{sratoolkit_path}/prefetch\", acc])\n",
    "    print(result)"
   ]
  },
  {
   "cell_type": "markdown",
   "metadata": {},
   "source": [
    "Split files into forward and backward reads"
   ]
  },
  {
   "cell_type": "code",
   "execution_count": null,
   "metadata": {},
   "outputs": [],
   "source": [
    "filepath = \"SRAS\" #path to the folder where the SRAs are stored\n",
    "for acc in accession_ids:\n",
    "    # Use the actual path and accession ID\n",
    "    result = subprocess.run([f\"{sratoolkit_path}/fastq-dump\", \"--split-files\", f\"{filepath}/{acc}/{acc}.sra\", \"-O\", f\"FASTQ1/{acc}\"])\n",
    "    print(result)\n"
   ]
  },
  {
   "cell_type": "markdown",
   "metadata": {},
   "source": [
    "Perform Quality Trimming"
   ]
  },
  {
   "cell_type": "code",
   "execution_count": null,
   "metadata": {},
   "outputs": [],
   "source": [
    "files_dir = \"FASTQ1\"\n",
    "\n",
    "for dirpath, dirnames, filenames in os.walk(files_dir):\n",
    "    for filename in filenames:\n",
    "        if filename.endswith(\"_1.fastq\"):\n",
    "            os.system(\"rm \"+dirpath+\"/\"+filename.split('_')[0]+'_2.fastq')\n",
    "            os.system(\"fastq_quality_trimmer -i \"+dirpath+\"/\"+filename+\" -o \"+dirpath+\"/\"+filename.split('.')[0]+\"_trimmed.fastq.gz -t 30 -l 80 -Q 33 -z\")\n",
    "            print(\"Done trimming \"+filename)\n",
    "    "
   ]
  },
  {
   "cell_type": "markdown",
   "metadata": {},
   "source": [
    "Dereplicate the sequences and perform OTU picking for each sample"
   ]
  },
  {
   "cell_type": "code",
   "execution_count": null,
   "metadata": {},
   "outputs": [],
   "source": [
    "files_dir = \"FASTQ1\"\n",
    "# download reference gene from http://greengenes.microbio.me/greengenes_release/gg_13_8_otus/rep_set/97_otus.fasta\n",
    "\n",
    "reference_file = \"97_otus.fasta\"\n",
    "os.system(\"qiime tools import --type 'FeatureData[Sequence]' --input-path \"+reference_file+\" --output-path 97_otus.qza\")\n",
    "reference_sequences_path = \"97_otus.qza\"\n",
    "\n",
    "for dirpath, dirnames, filenames in os.walk(files_dir):\n",
    "    for filename in filenames:\n",
    "        if filename.endswith(\"_trimmed.fastq.gz\"):\n",
    "            print(f\"Processing {filename}\")\n",
    "            base_filename = filename.split('_')[0]\n",
    "            filepath = dirpath\n",
    "\n",
    "            # Rename the file to follow naming convention\n",
    "            renamed_file = f\"{base_filename}_L2S357_L001_R1_001.fastq.gz\"\n",
    "            os.system(f\"mv {dirpath}/{filename} {dirpath}/{renamed_file}\")\n",
    "\n",
    "            # Remove any additional fastq file in the folder\n",
    "            os.system(f\"rm {dirpath}/{base_filename}_1.fastq\")\n",
    "\n",
    "            # Import the renamed FASTQ file to QIIME 2\n",
    "            os.system(\n",
    "                f\"qiime tools import --type 'SampleData[SequencesWithQuality]' \"\n",
    "                f\"--input-path {filepath} --input-format CasavaOneEightSingleLanePerSampleDirFmt \"\n",
    "                f\"--output-path {filepath}/{base_filename}.qza\"\n",
    "            )\n",
    "\n",
    "            # Dereplicate sequences\n",
    "            os.system(\n",
    "                f\"qiime vsearch dereplicate-sequences --i-sequences {filepath}/{base_filename}.qza \"\n",
    "                f\"--o-dereplicated-table {filepath}/{base_filename}_table.qza \"\n",
    "                f\"--o-dereplicated-sequences {filepath}/{base_filename}_rep-seqs.qza\"\n",
    "            )\n",
    "\n",
    "            # Closed-reference OTU picking\n",
    "            os.system(\n",
    "                f\"qiime vsearch cluster-features-closed-reference \"\n",
    "                f\"--i-table {filepath}/{base_filename}_table.qza \"\n",
    "                f\"--i-sequences {filepath}/{base_filename}_rep-seqs.qza \"\n",
    "                f\"--i-reference-sequences {reference_sequences_path} \"\n",
    "                f\"--p-perc-identity 0.97 \"\n",
    "                f\"--o-clustered-table {filepath}/{base_filename}_clustered-table.qza \"\n",
    "                f\"--o-clustered-sequences {filepath}/{base_filename}_clustered-seqs.qza \"\n",
    "                f\"--o-unmatched-sequences {filepath}/{base_filename}_unmatched-seqs.qza \"\n",
    "                f\"--p-strand 'both'\"\n",
    "            )\n",
    "\n",
    "            # Export the OTU table\n",
    "            os.system(\n",
    "                f\"qiime tools export \"\n",
    "                f\"--input-path {filepath}/{base_filename}_clustered-table.qza \"\n",
    "                f\"--output-path {filepath}/{base_filename}_exported-feature-table\"\n",
    "            )\n",
    "\n",
    "            # Convert the biom table to a tsv file\n",
    "            os.system(\n",
    "                f\"biom convert -i {filepath}/{base_filename}_exported-feature-table/feature-table.biom \"\n",
    "                f\"-o {filepath}/{base_filename}_exported-feature-table/feature-table.tsv \"\n",
    "                f\"--to-tsv\"\n",
    "            )\n",
    "\n",
    "            print(f\"Completed processing for {filename}\")"
   ]
  },
  {
   "cell_type": "markdown",
   "metadata": {},
   "source": [
    "Merge the individual OTU tables into one table for the entire dataset"
   ]
  },
  {
   "cell_type": "code",
   "execution_count": null,
   "metadata": {},
   "outputs": [],
   "source": [
    "files_dir = \"FASTQ1\"\n",
    "\n",
    "merged_df = pd.DataFrame()\n",
    "\n",
    "for sample_dir in os.listdir(files_dir):\n",
    "    sample_path = os.path.join(files_dir, sample_dir)\n",
    "    \n",
    "    if os.path.isdir(sample_path):\n",
    "        for nested_dir in os.listdir(sample_path):\n",
    "            nested_path = os.path.join(sample_path, nested_dir)\n",
    "            \n",
    "            if os.path.isdir(nested_path):\n",
    "                for filename in os.listdir(nested_path):\n",
    "                    if filename.endswith(\"feature-table.tsv\"):\n",
    "                        tsv_path = os.path.join(nested_path, filename)\n",
    "                        \n",
    "                        sample_id = sample_dir\n",
    "\n",
    "                        df = pd.read_csv(tsv_path, sep=\"\\t\", skiprows=2)\n",
    "                        \n",
    "                        if df.columns[0] != \"#OTU ID\":\n",
    "                            df.rename(columns={df.columns[0]: \"#OTU ID\"}, inplace=True)\n",
    "                        \n",
    "                        if len(df.columns) > 1:\n",
    "                            df = df.rename(columns={df.columns[1]: sample_id})\n",
    "                        \n",
    "                        if merged_df.empty:\n",
    "                            merged_df = df \n",
    "                        else:\n",
    "                            merged_df = pd.merge(merged_df, df, on=\"#OTU ID\", how=\"outer\")\n",
    "\n",
    "\n",
    "merged_df.fillna(0, inplace=True)\n",
    "\n",
    "merged_df.to_csv(\"merged_feature_table.tsv\", sep=\"\\t\", index=False)\n",
    "print(\"Merged table saved as merged_feature_table.tsv\")\n"
   ]
  },
  {
   "cell_type": "markdown",
   "metadata": {},
   "source": [
    "Normalize the merged OTU table and add the sample labels from metadata"
   ]
  },
  {
   "cell_type": "code",
   "execution_count": null,
   "metadata": {},
   "outputs": [],
   "source": [
    "merged_df = pd.read_csv(\"merged_feature_table.tsv\", sep=\"\\t\")\n",
    "normalized_df = merged_df.set_index(\"#OTU ID\").T\n",
    "\n",
    "normalized_df = normalized_df.div(normalized_df.sum(axis=1), axis=0) * 1000\n",
    "\n",
    "metadata = pd.read_csv(\"metadata.csv\")\n",
    "labels = {}\n",
    "for index, row in metadata.iterrows():\n",
    "    if row['sample_id'].startswith('C'):\n",
    "        labels[row['Run']] = \"control\"\n",
    "    elif row['sample_id'].startswith('M'):\n",
    "        labels[row['Run']] = \"mci\"\n",
    "    else:\n",
    "        labels[row['Run']] = \"alzheimer\"\n",
    "\n",
    "normalized_df['class'] = normalized_df.index.map(labels)\n",
    "normalized_df = normalized_df.reset_index(drop=True)\n",
    "print(normalized_df.columns)\n",
    "normalized_df.to_csv(\"normalized_feature_table_three_class.csv\", index=False)\n"
   ]
  },
  {
   "cell_type": "markdown",
   "metadata": {},
   "source": [
    "Check the labels and make sure the data was processed correctly"
   ]
  },
  {
   "cell_type": "code",
   "execution_count": null,
   "metadata": {},
   "outputs": [],
   "source": [
    "# load the normalized table and print the distribution of the labels\n",
    "normalized_df = pd.read_csv(\"normalized_feature_table.csv\")\n",
    "print(normalized_df['class'].value_counts())\n",
    "\n",
    "print(normalized_df.shape[0])"
   ]
  }
 ],
 "metadata": {
  "kernelspec": {
   "display_name": "qiime2-amplicon-2024.10",
   "language": "python",
   "name": "python3"
  },
  "language_info": {
   "codemirror_mode": {
    "name": "ipython",
    "version": 3
   },
   "file_extension": ".py",
   "mimetype": "text/x-python",
   "name": "python",
   "nbconvert_exporter": "python",
   "pygments_lexer": "ipython3",
   "version": "3.10.14"
  }
 },
 "nbformat": 4,
 "nbformat_minor": 2
}
