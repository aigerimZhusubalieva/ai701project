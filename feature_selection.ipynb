{
 "cells": [
  {
   "cell_type": "code",
   "execution_count": null,
   "metadata": {},
   "outputs": [],
   "source": [
    "# Importing necessary libraries\n",
    "import weka.core.jvm as jvm\n",
    "from weka.attribute_selection import ASSearch, ASEvaluation, AttributeSelection\n",
    "from weka.core.converters import Saver, Loader\n",
    "from weka.filters import Filter\n",
    "import pandas as pd\n",
    "import numpy as np\n",
    "\n",
    "# Start the Weka JVM\n",
    "if not jvm.started:\n",
    "    jvm.start(packages=True, max_heap_size=\"4G\")\n",
    "    print(\"JVM Started\")"
   ]
  },
  {
   "cell_type": "code",
   "execution_count": null,
   "metadata": {},
   "outputs": [],
   "source": [
    "otu_file_name = \"normalized_feature_table_three_class.csv\"\n",
    "\n",
    "thresh = 0.01 #varying threshold for the feature selection"
   ]
  },
  {
   "cell_type": "markdown",
   "metadata": {},
   "source": [
    "Loading the dataset into Weka and specifying the class column"
   ]
  },
  {
   "cell_type": "code",
   "execution_count": 19,
   "metadata": {},
   "outputs": [],
   "source": [
    "def load_dataset(filename):\n",
    "    loader = Loader(classname=\"weka.core.converters.CSVLoader\")\n",
    "    data = loader.load_file(filename)\n",
    "    data.class_is_last()\n",
    "    return data"
   ]
  },
  {
   "cell_type": "markdown",
   "metadata": {},
   "source": [
    "Feature selection iwth BestFirst search and CfsSubsetEval evaluator"
   ]
  },
  {
   "cell_type": "code",
   "execution_count": null,
   "metadata": {},
   "outputs": [],
   "source": [
    "def best_first_ranker(data):\n",
    "    print(\"Best First Ranker Feature Selection\")\n",
    "    search = ASSearch(classname=\"weka.attributeSelection.BestFirst\", options=[\n",
    "                      \"-D\", \"2\",  # Search direction: bidirectional (2)\n",
    "                      \"-N\", \"5\"   # Number of non-improving nodes to consider\n",
    "                    ])\n",
    "    evaluator = ASEvaluation(classname=\"weka.attributeSelection.CfsSubsetEval\")\n",
    "\n",
    "    attsel = AttributeSelection()\n",
    "    attsel.search(search)\n",
    "    attsel.evaluator(evaluator)\n",
    "    \n",
    "    try:\n",
    "        attsel.select_attributes(data)\n",
    "        print(\"Selected attributes:\", attsel.selected_attributes)\n",
    "        print(\"Number of attributes selected:\", attsel.number_attributes_selected)\n",
    "        \n",
    "        selected_attributes = attsel.selected_attributes\n",
    "        selected_attributes = [int(att) for att in selected_attributes]\n",
    "\n",
    "        attribute_info = []\n",
    "        \n",
    "        for att in selected_attributes:\n",
    "            name = data.attribute(att).name\n",
    "            attribute_info.append({'Index': att, 'Name': name})\n",
    "    \n",
    "        attributes_df = pd.DataFrame(attribute_info)\n",
    "        attributes_df.to_csv('best_first_attributes.csv', index=False)\n",
    "    \n",
    "        \n",
    "    except Exception as e:\n",
    "        print(f\"An error occurred during attribute selection: {e}\")\n",
    "        import traceback\n",
    "        traceback.print_exc()"
   ]
  },
  {
   "cell_type": "markdown",
   "metadata": {},
   "source": [
    "Feature selection iwth BestFirst search and Wrapper evaluator using RF"
   ]
  },
  {
   "cell_type": "code",
   "execution_count": null,
   "metadata": {},
   "outputs": [],
   "source": [
    "def best_first_wrapper(data):\n",
    "    print(\"Best First Search with Wrapper Evaluation\")\n",
    "    search = ASSearch(classname=\"weka.attributeSelection.BestFirst\", options=[\n",
    "                      \"-D\", \"1\", \n",
    "                    \"-N\", \"5\"  \n",
    "                    ])\n",
    "    evaluator = ASEvaluation(classname=\"weka.attributeSelection.WrapperSubsetEval\", options=[\"-B\", \"weka.classifiers.trees.J48\", \"-F\", \"10\", \"-T\", \"0.01\"])\n",
    "\n",
    "    attsel = AttributeSelection()\n",
    "    attsel.search(search)\n",
    "    attsel.evaluator(evaluator)\n",
    "    \n",
    "    try:\n",
    "        attsel.select_attributes(data)\n",
    "        print(\"Selected attributes:\", attsel.selected_attributes)\n",
    "        print(\"Number of attributes selected:\", attsel.number_attributes_selected)\n",
    "\n",
    "        selected_attributes = attsel.selected_attributes\n",
    "        selected_attributes = [int(att) for att in selected_attributes]\n",
    "\n",
    "        attribute_info = []\n",
    "        \n",
    "        for att in selected_attributes:\n",
    "            name = data.attribute(att).name\n",
    "            attribute_info.append({'Index': att, 'Name': name})\n",
    "        \n",
    "        attributes_df = pd.DataFrame(attribute_info)\n",
    "\n",
    "        attributes_df.to_csv('best_first_wrapper.csv', index=False)\n",
    "    \n",
    "        \n",
    "    except Exception as e:\n",
    "        print(f\"An error occurred during attribute selection: {e}\")\n",
    "        import traceback\n",
    "        traceback.print_exc()"
   ]
  },
  {
   "cell_type": "markdown",
   "metadata": {},
   "source": [
    "Perform feature selection"
   ]
  },
  {
   "cell_type": "code",
   "execution_count": null,
   "metadata": {},
   "outputs": [],
   "source": [
    "dataset = load_dataset(otu_file_name)\n",
    "print(\"Dataset Loaded\")\n",
    "best_first_ranker(dataset)\n",
    "best_first_wrapper(dataset)\n",
    "jvm.stop() #stop after compelte execution"
   ]
  }
 ],
 "metadata": {
  "kernelspec": {
   "display_name": "qiime2-amplicon-2024.10",
   "language": "python",
   "name": "python3"
  },
  "language_info": {
   "codemirror_mode": {
    "name": "ipython",
    "version": 3
   },
   "file_extension": ".py",
   "mimetype": "text/x-python",
   "name": "python",
   "nbconvert_exporter": "python",
   "pygments_lexer": "ipython3",
   "version": "3.10.14"
  }
 },
 "nbformat": 4,
 "nbformat_minor": 2
}
